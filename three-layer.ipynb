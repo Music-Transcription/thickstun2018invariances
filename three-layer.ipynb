{
 "cells": [
  {
   "cell_type": "code",
   "execution_count": 2,
   "metadata": {},
   "outputs": [],
   "source": [
    "import os,sys\n",
    "import cPickle as pickle\n",
    "import numpy as np                                       # fast vectors and matrices\n",
    "import matplotlib.pyplot as plt                          # plotting\n",
    "from scipy.fftpack import fft\n",
    "\n",
    "from time import time\n",
    "\n",
    "sys.path.insert(0,'lib/')\n",
    "import config\n",
    "import diagnostics\n",
    "import base_model\n",
    "\n",
    "from sklearn.metrics import average_precision_score\n",
    "\n",
    "import tensorflow as tf\n",
    "\n",
    "%matplotlib inline"
   ]
  },
  {
   "cell_type": "code",
   "execution_count": 3,
   "metadata": {},
   "outputs": [],
   "source": [
    "with open(config.labels_path) as f:\n",
    "    labels = pickle.load(f)"
   ]
  },
  {
   "cell_type": "code",
   "execution_count": 4,
   "metadata": {},
   "outputs": [],
   "source": [
    "# windowed, exponentially distributed filters between 50Hz and 22kHz\n",
    "def create_filters(d,k):\n",
    "    x = np.linspace(0, 2*np.pi, d, endpoint=False)\n",
    "    wsin = np.empty((1,d,1,k), dtype=np.float32)\n",
    "    wcos = np.empty((1,d,1,k), dtype=np.float32)\n",
    "    start_freq = 50.\n",
    "    end_freq = 6000.\n",
    "    num_cycles = start_freq*d/44000.\n",
    "    scaling_ind = np.log(end_freq/start_freq)/k\n",
    "    window_mask = 1.0-1.0*np.cos(x)\n",
    "    for ind in range(k):\n",
    "        wsin[0,:,0,ind] = window_mask*np.sin(np.exp(ind*scaling_ind)*num_cycles*x)\n",
    "        wcos[0,:,0,ind] = window_mask*np.cos(np.exp(ind*scaling_ind)*num_cycles*x)\n",
    "            \n",
    "    return wsin,wcos\n",
    "\n",
    "class Spectrograms(base_model.Model):\n",
    "    def __init__(self, *args, **kwargs):\n",
    "        super(Spectrograms, self).__init__(*args, **kwargs)\n",
    "\n",
    "    def define_graph(self):\n",
    "        super(Spectrograms, self).define_graph()\n",
    "        \n",
    "        # lvl1 convolutions are shared between regions\n",
    "        self.k = 512              # lvl1 nodes\n",
    "        self.d = 4096              # lvl1 receptive field\n",
    "        \n",
    "        self.k2 = 512              # lvl2 nodes\n",
    "\n",
    "        # number of lvl1 features\n",
    "        regions = 1 + (self.window - self.d)/self.stride\n",
    "        print 'Number of V1 feature regions: {}'.format(regions)\n",
    "\n",
    "        wsin,wcos = create_filters(self.d,self.k)\n",
    "        \n",
    "        wscale = 10e-5\n",
    "        with tf.variable_scope('parameters'):\n",
    "            w1 = tf.Variable(wscale*tf.random_normal([regions*self.k,self.k2],seed=999))\n",
    "            w1avg = self.register_weights(w1,'w1',average=.9998)\n",
    "            beta = tf.Variable(wscale*tf.random_normal([self.k2,self.m],seed=999))\n",
    "            betaavg = self.register_weights(beta,'beta',average=.9998)\n",
    "\n",
    "        with tf.variable_scope('queued_model'):\n",
    "            zx = tf.square(tf.nn.conv2d(self.xq,wsin,strides=[1,1,self.stride,1],padding='VALID')) \\\n",
    "               + tf.square(tf.nn.conv2d(self.xq,wcos,strides=[1,1,self.stride,1],padding='VALID'))\n",
    "            z2 = tf.nn.relu(tf.matmul(tf.reshape(tf.log(zx + 10e-12),[self.batch_size,regions*self.k]),w1))\n",
    "            y = tf.matmul(z2,beta)\n",
    "            self.loss = tf.reduce_mean(tf.nn.l2_loss(y-tf.reshape(self.yq,[self.batch_size,self.m])))\n",
    "\n",
    "        with tf.variable_scope('direct_model'):\n",
    "            zx = tf.square(tf.nn.conv2d(self.xd,wsin,strides=[1,1,self.stride,1],padding='VALID')) \\\n",
    "               + tf.square(tf.nn.conv2d(self.xd,wcos,strides=[1,1,self.stride,1],padding='VALID'))\n",
    "            z2 = tf.nn.relu(tf.matmul(tf.reshape(tf.log(zx + 10e-12),[tf.shape(self.xd)[0],regions*self.k]),w1avg))\n",
    "            self.y_direct = tf.matmul(z2,betaavg)\n",
    "            self.loss_direct = tf.reduce_mean(tf.nn.l2_loss(self.y_direct-self.yd))"
   ]
  },
  {
   "cell_type": "code",
   "execution_count": 5,
   "metadata": {},
   "outputs": [
    {
     "name": "stdout",
     "output_type": "stream",
     "text": [
      "Number of V1 feature regions: 25\n"
     ]
    }
   ],
   "source": [
    "model = Spectrograms(labels,checkpoint_path='mlp/', outputs=1, window=16384, mmap=True, batch_size=100,\n",
    "                    normalize=True, extended_test_set=True, use_mirex=False, init=False, pitch_transforms=5, jitter=.1,\n",
    "                    restrict=False)"
   ]
  },
  {
   "cell_type": "code",
   "execution_count": null,
   "metadata": {
    "scrolled": false
   },
   "outputs": [
    {
     "name": "stdout",
     "output_type": "stream",
     "text": [
      "Number of V1 feature regions: 25\n",
      "avp_test\tavp_train\tmse_test\tmse_train\ttime\tutime\n",
      "0.746182        0.742859        0.496267        0.636604        221     126     \n",
      "0.745702        0.743012        0.496507        0.636451        340     116     \n",
      "0.746068        0.743000        0.496023        0.636317        593     337     \n",
      "0.746270        0.743069        0.495992        0.635978        381     155     \n",
      "0.746216        0.743203        0.496024        0.635921        459     205     \n",
      "0.746018        0.743306        0.496374        0.635823        475     218     \n",
      "Graceful Exit\n"
     ]
    }
   ],
   "source": [
    "lr = .000001/3/3\n",
    "mom = .95\n",
    "\n",
    "# stop the model if it is already running\n",
    "model.stop()\n",
    "\n",
    "# we have to rebuild the graph every time because input queues can't be reopened\n",
    "model.define_graph()\n",
    "\n",
    "learning_rate = tf.placeholder(tf.float32, shape=[])\n",
    "opt_op = tf.train.MomentumOptimizer(learning_rate,mom).minimize(model.loss)\n",
    "with tf.control_dependencies([opt_op]):\n",
    "    train_step = tf.group(*model.averages)\n",
    "\n",
    "# start up the session, kick off the worker threads, restore checkpoint, etc.\n",
    "model.start()\n",
    "\n",
    "try:\n",
    "    ptime = time()\n",
    "    print model.status_header()\n",
    "    while True:\n",
    "        if model.iter % 10000 == 0:\n",
    "            model.update_status(ptime,time(),lr)\n",
    "            model.checkpoint()\n",
    "            print model.status()\n",
    "            ptime = time()\n",
    "\n",
    "        model.sess.run(train_step, feed_dict={learning_rate: lr})\n",
    "        model.iter += 1\n",
    "\n",
    "except KeyboardInterrupt:\n",
    "    model.checkpoint()\n",
    "    print 'Graceful Exit'\n",
    "finally:\n",
    "    model.stop()"
   ]
  },
  {
   "cell_type": "code",
   "execution_count": 65,
   "metadata": {},
   "outputs": [
    {
     "name": "stdout",
     "output_type": "stream",
     "text": [
      "0.746269900191\n",
      "0.495928858278\n"
     ]
    },
    {
     "data": {
      "image/png": "[encoded data removed]",
      "text/plain": [
       "<matplotlib.figure.Figure at 0x7f530d250310>"
      ]
     },
     "metadata": {},
     "output_type": "display_data"
    }
   ],
   "source": [
    "burnin=100\n",
    "fig, ((ax1, ax2),(ax3,ax4),(ax5,ax6)) = plt.subplots(3,2)\n",
    "fig.set_figwidth(12)\n",
    "fig.set_figheight(10)\n",
    "ax1.set_title('average precision')\n",
    "ax1.plot(model.stats['iter'][2][burnin:],model.stats['avp_test'][2][burnin:],color='g')\n",
    "ax1.plot(model.stats['iter'][2][burnin:],model.stats['avp_train'][2][burnin:],color='b')\n",
    "ax2.set_title('square loss')\n",
    "ax2.plot(model.stats['iter'][2][burnin:],model.stats['mse_test'][2][burnin:],color='g')\n",
    "ax2.plot(model.stats['iter'][2][burnin:],model.stats['mse_train'][2][burnin:],color='b')\n",
    "ax3.set_title('weights top')\n",
    "ax3.plot(model.stats['iter'][2][burnin:],model.stats['nbeta'][2][burnin:],color='g')\n",
    "ax4.set_title('learning rate')\n",
    "ax4.plot(model.stats['iter'][2][burnin:],model.stats['lr'][2][burnin:],color='g')\n",
    "ax6.set_title('weights middle')\n",
    "ax6.plot(model.stats['iter'][2][burnin:],model.stats['nw1'][2][burnin:],color='g')\n",
    "\n",
    "print max(model.stats['avp_test'][2])\n",
    "print min(model.stats['mse_test'][2])"
   ]
  },
  {
   "cell_type": "markdown",
   "metadata": {
    "collapsed": true
   },
   "source": [
    "# Mirex Stats"
   ]
  },
  {
   "cell_type": "code",
   "execution_count": 6,
   "metadata": {},
   "outputs": [
    {
     "name": "stdout",
     "output_type": "stream",
     "text": [
      "0.738604619935\n"
     ]
    }
   ],
   "source": [
    "mse_test, Yhat, Y, mse_breakdown, avp_breakdown = model.sample_records(config.test_ids, 7500, fixed_stride=512)\n",
    "avp_test = average_precision_score(Y.flatten(),Yhat.flatten())\n",
    "print avp_test"
   ]
  },
  {
   "cell_type": "code",
   "execution_count": 7,
   "metadata": {},
   "outputs": [
    {
     "name": "stdout",
     "output_type": "stream",
     "text": [
      "AvgP\tP\tR\tAcc\tETot\tESub\tEmiss\tEfa\n",
      "79.96\t72.03\t79.28\t0.61\t0.42\t0.10\t0.11\t0.21\n",
      "AvgP\tP\tR\tAcc\tETot\tESub\tEmiss\tEfa\n",
      "51.37\t53.32\t52.76\t0.36\t0.76\t0.18\t0.30\t0.29\n",
      "AvgP\tP\tR\tAcc\tETot\tESub\tEmiss\tEfa\n",
      "78.34\t72.87\t73.34\t0.58\t0.45\t0.09\t0.17\t0.18\n",
      "0.514374022417 0.540598749024\n"
     ]
    }
   ],
   "source": [
    "Accavg = Etotavg = 0\n",
    "for i in range(3):\n",
    "    _,_,_,Acc,Etot = diagnostics.mirex_statistics(model,i,threshold=.4)\n",
    "    Accavg += Acc\n",
    "    Etotavg += Etot\n",
    "\n",
    "print Accavg/3.,Etotavg/3."
   ]
  },
  {
   "cell_type": "markdown",
   "metadata": {
    "collapsed": true
   },
   "source": [
    "# Extended test set stats"
   ]
  },
  {
   "cell_type": "code",
   "execution_count": 8,
   "metadata": {},
   "outputs": [
    {
     "name": "stdout",
     "output_type": "stream",
     "text": [
      "0.762895810652\n"
     ]
    }
   ],
   "source": [
    "mse_test, Yhat, Y, mse_breakdown, avp_breakdown = model.sample_records(config.test_ids_ext, 7500, fixed_stride=512)\n",
    "avp_test = average_precision_score(Y.flatten(),Yhat.flatten())\n",
    "print avp_test"
   ]
  },
  {
   "cell_type": "code",
   "execution_count": 9,
   "metadata": {},
   "outputs": [
    {
     "name": "stdout",
     "output_type": "stream",
     "text": [
      "AvgP\tP\tR\tAcc\tETot\tESub\tEmiss\tEfa\n",
      "79.96\t72.03\t79.28\t0.61\t0.42\t0.10\t0.11\t0.21\n",
      "AvgP\tP\tR\tAcc\tETot\tESub\tEmiss\tEfa\n",
      "51.37\t53.32\t52.76\t0.36\t0.76\t0.18\t0.30\t0.29\n",
      "AvgP\tP\tR\tAcc\tETot\tESub\tEmiss\tEfa\n",
      "78.34\t72.87\t73.34\t0.58\t0.45\t0.09\t0.17\t0.18\n",
      "AvgP\tP\tR\tAcc\tETot\tESub\tEmiss\tEfa\n",
      "79.59\t71.70\t75.91\t0.58\t0.42\t0.12\t0.12\t0.18\n",
      "AvgP\tP\tR\tAcc\tETot\tESub\tEmiss\tEfa\n",
      "82.43\t66.40\t87.70\t0.61\t0.47\t0.10\t0.02\t0.35\n",
      "AvgP\tP\tR\tAcc\tETot\tESub\tEmiss\tEfa\n",
      "79.11\t74.36\t79.13\t0.62\t0.38\t0.10\t0.11\t0.17\n",
      "AvgP\tP\tR\tAcc\tETot\tESub\tEmiss\tEfa\n",
      "71.92\t61.17\t79.87\t0.53\t0.63\t0.08\t0.12\t0.43\n",
      "AvgP\tP\tR\tAcc\tETot\tESub\tEmiss\tEfa\n",
      "75.01\t67.55\t72.20\t0.54\t0.50\t0.12\t0.16\t0.23\n",
      "AvgP\tP\tR\tAcc\tETot\tESub\tEmiss\tEfa\n",
      "76.51\t69.26\t78.77\t0.58\t0.45\t0.11\t0.10\t0.24\n",
      "AvgP\tP\tR\tAcc\tETot\tESub\tEmiss\tEfa\n",
      "72.20\t72.11\t67.60\t0.54\t0.45\t0.13\t0.19\t0.13\n",
      "0.554188517326 0.492134505874\n"
     ]
    }
   ],
   "source": [
    "Accavg = Etotavg = 0\n",
    "for i in range(10):\n",
    "    _,_,_,Acc,Etot = diagnostics.mirex_statistics(model,i,threshold=.4)\n",
    "    Accavg += Acc\n",
    "    Etotavg += Etot\n",
    "\n",
    "print Accavg/10.,Etotavg/10."
   ]
  },
  {
   "cell_type": "code",
   "execution_count": null,
   "metadata": {},
   "outputs": [],
   "source": []
  }
 ],
 "metadata": {
  "kernelspec": {
   "display_name": "Python 2",
   "language": "python",
   "name": "python2"
  }
 },
 "nbformat": 4,
 "nbformat_minor": 1
}
