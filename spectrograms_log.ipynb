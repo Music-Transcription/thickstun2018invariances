{
 "cells": [
  {
   "cell_type": "code",
   "execution_count": 1,
   "metadata": {},
   "outputs": [],
   "source": [
    "import os,sys\n",
    "import cPickle as pickle\n",
    "import numpy as np                                       # fast vectors and matrices\n",
    "import matplotlib.pyplot as plt                          # plotting\n",
    "from scipy.fftpack import fft\n",
    "\n",
    "from time import time\n",
    "\n",
    "sys.path.insert(0,'lib/')\n",
    "import config\n",
    "import diagnostics\n",
    "import base_model\n",
    "\n",
    "from sklearn.metrics import average_precision_score\n",
    "\n",
    "os.environ['CUDA_VISIBLE_DEVICES']=''\n",
    "\n",
    "import tensorflow as tf\n",
    "\n",
    "%matplotlib inline"
   ]
  },
  {
   "cell_type": "code",
   "execution_count": 2,
   "metadata": {},
   "outputs": [],
   "source": [
    "with open(config.labels_path) as f:\n",
    "    labels = pickle.load(f)"
   ]
  },
  {
   "cell_type": "code",
   "execution_count": 3,
   "metadata": {},
   "outputs": [],
   "source": [
    "# windowed, exponentially distributed filters between 10Hz and 22kHz\n",
    "def create_filters(d,k):\n",
    "    x = np.linspace(0, 2*np.pi, d, endpoint=False)\n",
    "    wsin = np.empty((1,d,1,k), dtype=np.float32)\n",
    "    wcos = np.empty((1,d,1,k), dtype=np.float32)\n",
    "    start_freq = 50.\n",
    "    end_freq = 6000.\n",
    "    num_cycles = start_freq*d/44000.\n",
    "    scaling_ind = np.log(end_freq/start_freq)/k\n",
    "    window_mask = 1.0#-1.0*np.cos(x)\n",
    "    for ind in range(k):\n",
    "        wsin[0,:,0,ind] = window_mask*np.sin(np.exp(ind*scaling_ind)*num_cycles*x)\n",
    "        wcos[0,:,0,ind] = window_mask*np.cos(np.exp(ind*scaling_ind)*num_cycles*x)\n",
    "            \n",
    "    return wsin,wcos\n",
    "\n",
    "class Spectrograms(base_model.Model):\n",
    "    def __init__(self, *args, **kwargs):\n",
    "        super(Spectrograms, self).__init__(*args, **kwargs)\n",
    "\n",
    "    def define_graph(self):\n",
    "        super(Spectrograms, self).define_graph()\n",
    "        \n",
    "        # lvl1 convolutions are shared between regions\n",
    "        self.k = 512              # lvl1 nodes\n",
    "        self.d = 4096              # lvl1 receptive field\n",
    "\n",
    "        # number of lvl1 features\n",
    "        regions = 1 + (self.window - self.d)/self.stride\n",
    "        print 'Number of V1 feature regions: {}'.format(regions)\n",
    "\n",
    "        # preconditionable weights\n",
    "        wsin,wcos = create_filters(self.d,self.k)\n",
    "\n",
    "        with tf.variable_scope('parameters'):\n",
    "            beta = tf.Variable(tf.zeros([regions*self.k,self.m]))\n",
    "            betaavg = self.register_weights(beta,'beta',average=.9998)\n",
    "\n",
    "        with tf.variable_scope('queued_model'):\n",
    "            zx = tf.square(tf.nn.conv2d(self.xq,wsin,strides=[1,1,self.stride,1],padding='VALID')) \\\n",
    "               + tf.square(tf.nn.conv2d(self.xq,wcos,strides=[1,1,self.stride,1],padding='VALID'))\n",
    "            y = tf.matmul(tf.reshape(tf.log(zx + 10e-12),[self.batch_size,regions*self.k]),beta)\n",
    "            self.loss = tf.reduce_mean(tf.nn.l2_loss(y-tf.reshape(self.yq,[self.batch_size,self.m])))\n",
    "\n",
    "        with tf.variable_scope('direct_model'):\n",
    "            self.zx = tf.square(tf.nn.conv2d(self.xd,wsin,strides=[1,1,self.stride,1],padding='VALID')) \\\n",
    "                    + tf.square(tf.nn.conv2d(self.xd,wcos,strides=[1,1,self.stride,1],padding='VALID'))\n",
    "            self.y_direct = tf.matmul(tf.reshape(tf.log(self.zx + 10e-12),[tf.shape(self.xd)[0],regions*self.k]),betaavg)\n",
    "            self.loss_direct = tf.reduce_mean(tf.nn.l2_loss(self.y_direct-self.yd))"
   ]
  },
  {
   "cell_type": "code",
   "execution_count": 4,
   "metadata": {},
   "outputs": [
    {
     "name": "stdout",
     "output_type": "stream",
     "text": [
      "Number of V1 feature regions: 25\n"
     ]
    }
   ],
   "source": [
    "try: model.stop()\n",
    "except NameError: pass\n",
    "model = Spectrograms(labels,checkpoint_path='spectrograms_log/', outputs=1, window=16384, mmap=True,\n",
    "                    normalize=True, extended_test_set=True, use_mirex=False, init=False, pitch_transforms=5, jitter=.1,\n",
    "                    restrict=False)"
   ]
  },
  {
   "cell_type": "code",
   "execution_count": null,
   "metadata": {},
   "outputs": [
    {
     "name": "stdout",
     "output_type": "stream",
     "text": [
      "Number of V1 feature regions: 25\n",
      "avp_test\tavp_train\tmse_test\tmse_train\ttime\tutime\n",
      "0.634015        0.649345        0.692654        0.850922        21      21      \n",
      "0.634036        0.649353        0.692631        0.850917        65      22      \n",
      "0.634056        0.649358        0.692608        0.850913        65      24      \n",
      "0.634255        0.649545        0.692511        0.850737        64      22      \n",
      "0.634267        0.649557        0.692497        0.850730        63      21      \n",
      "0.634285        0.649561        0.692475        0.850726        64      20      \n",
      "0.634312        0.649549        0.692453        0.850727        67      25      \n",
      "0.634289        0.649464        0.692438        0.850743        64      21      \n",
      "0.634276        0.649462        0.692493        0.850745        64      20      \n",
      "0.634259        0.649458        0.692508        0.850750        65      22      \n",
      "0.634259        0.649451        0.692512        0.850748        65      22      \n",
      "0.634266        0.649459        0.692496        0.850747        63      21      \n",
      "0.634275        0.649461        0.692490        0.850744        64      20      \n",
      "0.634285        0.649463        0.692472        0.850739        65      22      \n",
      "0.634281        0.649463        0.692470        0.850734        62      20      \n",
      "0.634285        0.649470        0.692467        0.850728        65      20      \n",
      "0.634293        0.649476        0.692468        0.850725        64      19      \n",
      "0.634299        0.649474        0.692472        0.850728        64      20      \n",
      "0.634312        0.649480        0.692466        0.850729        63      19      \n",
      "0.634338        0.649488        0.692459        0.850730        63      19      \n",
      "0.634341        0.649494        0.692461        0.850727        64      20      \n",
      "0.634366        0.649505        0.692446        0.850720        63      20      \n",
      "0.634349        0.649508        0.692439        0.850712        63      19      \n",
      "0.634342        0.649517        0.692443        0.850703        65      21      \n",
      "0.634331        0.649526        0.692441        0.850697        65      21      \n",
      "Graceful Exit\n"
     ]
    }
   ],
   "source": [
    "lr = .000000001/2/2/3\n",
    "mom = .95\n",
    "\n",
    "# stop the model if it is already running\n",
    "model.stop()\n",
    "\n",
    "# we have to rebuild the graph every time because input queues can't be reopened\n",
    "model.define_graph()\n",
    "\n",
    "learning_rate = tf.placeholder(tf.float32, shape=[])\n",
    "opt_op = tf.train.MomentumOptimizer(learning_rate,mom).minimize(model.loss)\n",
    "with tf.control_dependencies([opt_op]):\n",
    "    train_step = tf.group(*model.averages)\n",
    "\n",
    "# start up the session, kick off the worker threads, restore checkpoint, etc.\n",
    "model.start()\n",
    "\n",
    "try:\n",
    "    ptime = time()\n",
    "    print model.status_header()\n",
    "    while True:\n",
    "        if model.iter % 1000 == 0:\n",
    "            model.update_status(ptime,time(),lr)\n",
    "            model.checkpoint()\n",
    "            print model.status()\n",
    "            ptime = time()\n",
    "\n",
    "        model.sess.run(train_step, feed_dict={learning_rate: lr})\n",
    "        model.iter += 1\n",
    "\n",
    "except KeyboardInterrupt:\n",
    "    model.checkpoint()\n",
    "    print 'Graceful Exit'"
   ]
  },
  {
   "cell_type": "code",
   "execution_count": 13,
   "metadata": {},
   "outputs": [
    {
     "name": "stdout",
     "output_type": "stream",
     "text": [
      "0.635170002727\n",
      "0.691946692902\n"
     ]
    },
    {
     "data": {
      "image/png": "[encoded data removed]",
      "text/plain": [
       "<matplotlib.figure.Figure at 0x7f31fe366f90>"
      ]
     },
     "metadata": {},
     "output_type": "display_data"
    }
   ],
   "source": [
    "burnin=100\n",
    "fig, ((ax1, ax2),(ax3,ax4)) = plt.subplots(2,2)\n",
    "fig.set_figwidth(12)\n",
    "fig.set_figheight(10)\n",
    "ax1.set_title('average precision')\n",
    "ax1.plot(model.stats['iter'][2][burnin:],model.stats['avp_test'][2][burnin:],color='g')\n",
    "ax1.plot(model.stats['iter'][2][burnin:],model.stats['avp_train'][2][burnin:],color='b')\n",
    "ax2.set_title('square loss')\n",
    "ax2.plot(model.stats['iter'][2][burnin:],model.stats['mse_test'][2][burnin:],color='g')\n",
    "ax2.plot(model.stats['iter'][2][burnin:],model.stats['mse_train'][2][burnin:],color='b')\n",
    "ax3.set_title('weights')\n",
    "ax3.plot(model.stats['iter'][2][burnin:],model.stats['nbeta'][2][burnin:],color='g')\n",
    "ax4.set_title('learning rate')\n",
    "ax4.plot(model.stats['iter'][2][burnin:],model.stats['lr'][2][burnin:],color='g')\n",
    "\n",
    "print max(model.stats['avp_test'][2])\n",
    "print min(model.stats['mse_test'][2])"
   ]
  },
  {
   "cell_type": "markdown",
   "metadata": {},
   "source": [
    "# Mirex Stats"
   ]
  },
  {
   "cell_type": "code",
   "execution_count": 5,
   "metadata": {},
   "outputs": [
    {
     "name": "stdout",
     "output_type": "stream",
     "text": [
      "0.627362753789\n"
     ]
    }
   ],
   "source": [
    "mse_test, Yhat, Y, mse_breakdown, avp_breakdown = model.sample_records(config.test_ids, 7500, fixed_stride=512)\n",
    "avp_test = average_precision_score(Y.flatten(),Yhat.flatten())\n",
    "print avp_test"
   ]
  },
  {
   "cell_type": "code",
   "execution_count": 7,
   "metadata": {},
   "outputs": [
    {
     "name": "stdout",
     "output_type": "stream",
     "text": [
      "AvgP\tP\tR\tAcc\tETot\tESub\tEmiss\tEfa\n",
      "70.97\t73.28\t63.45\t0.52\t0.50\t0.10\t0.27\t0.13\n",
      "AvgP\tP\tR\tAcc\tETot\tESub\tEmiss\tEfa\n",
      "35.45\t50.38\t30.01\t0.23\t0.87\t0.13\t0.57\t0.17\n",
      "AvgP\tP\tR\tAcc\tETot\tESub\tEmiss\tEfa\n",
      "73.83\t77.20\t51.47\t0.45\t0.57\t0.06\t0.42\t0.09\n",
      "0.397895741753 0.646460766455\n"
     ]
    }
   ],
   "source": [
    "Accavg = Etotavg = 0\n",
    "for i in range(3):\n",
    "    _,_,_,Acc,Etot = diagnostics.mirex_statistics(model,i,threshold=.4)\n",
    "    Accavg += Acc\n",
    "    Etotavg += Etot\n",
    "\n",
    "print Accavg/3.,Etotavg/3."
   ]
  },
  {
   "cell_type": "markdown",
   "metadata": {},
   "source": [
    "# Extended test set stats"
   ]
  },
  {
   "cell_type": "code",
   "execution_count": 8,
   "metadata": {},
   "outputs": [
    {
     "name": "stdout",
     "output_type": "stream",
     "text": [
      "0.643125241318\n"
     ]
    }
   ],
   "source": [
    "mse_test, Yhat, Y, mse_breakdown, avp_breakdown = model.sample_records(config.test_ids_ext, 7500, fixed_stride=512)\n",
    "avp_test = average_precision_score(Y.flatten(),Yhat.flatten())\n",
    "print avp_test"
   ]
  },
  {
   "cell_type": "code",
   "execution_count": 9,
   "metadata": {},
   "outputs": [
    {
     "name": "stdout",
     "output_type": "stream",
     "text": [
      "AvgP\tP\tR\tAcc\tETot\tESub\tEmiss\tEfa\n",
      "70.97\t73.28\t63.45\t0.52\t0.50\t0.10\t0.27\t0.13\n",
      "AvgP\tP\tR\tAcc\tETot\tESub\tEmiss\tEfa\n",
      "35.45\t50.38\t30.01\t0.23\t0.87\t0.13\t0.57\t0.17\n",
      "AvgP\tP\tR\tAcc\tETot\tESub\tEmiss\tEfa\n",
      "73.83\t77.20\t51.47\t0.45\t0.57\t0.06\t0.42\t0.09\n",
      "AvgP\tP\tR\tAcc\tETot\tESub\tEmiss\tEfa\n",
      "63.51\t58.94\t65.38\t0.45\t0.63\t0.17\t0.18\t0.28\n",
      "AvgP\tP\tR\tAcc\tETot\tESub\tEmiss\tEfa\n",
      "66.15\t52.20\t87.70\t0.49\t0.81\t0.12\t0.00\t0.68\n",
      "AvgP\tP\tR\tAcc\tETot\tESub\tEmiss\tEfa\n",
      "70.42\t71.35\t59.06\t0.48\t0.50\t0.14\t0.27\t0.09\n",
      "AvgP\tP\tR\tAcc\tETot\tESub\tEmiss\tEfa\n",
      "61.53\t59.42\t63.83\t0.44\t0.71\t0.09\t0.28\t0.35\n",
      "AvgP\tP\tR\tAcc\tETot\tESub\tEmiss\tEfa\n",
      "68.41\t71.21\t56.34\t0.46\t0.54\t0.12\t0.31\t0.10\n",
      "AvgP\tP\tR\tAcc\tETot\tESub\tEmiss\tEfa\n",
      "67.48\t68.70\t63.98\t0.50\t0.51\t0.15\t0.22\t0.15\n",
      "AvgP\tP\tR\tAcc\tETot\tESub\tEmiss\tEfa\n",
      "64.94\t69.30\t55.10\t0.44\t0.55\t0.14\t0.31\t0.10\n",
      "0.444829138775 0.618831991132\n"
     ]
    }
   ],
   "source": [
    "Accavg = Etotavg = 0\n",
    "for i in range(10):\n",
    "    _,_,_,Acc,Etot = diagnostics.mirex_statistics(model,i,threshold=.4)\n",
    "    Accavg += Acc\n",
    "    Etotavg += Etot\n",
    "\n",
    "print Accavg/10.,Etotavg/10."
   ]
  },
  {
   "cell_type": "code",
   "execution_count": null,
   "metadata": {},
   "outputs": [],
   "source": []
  }
 ],
 "metadata": {
  "kernelspec": {
   "display_name": "Python 2",
   "language": "python",
   "name": "python2"
  },
  "language_info": {
   "codemirror_mode": {
    "name": "ipython",
    "version": 2
   },
   "file_extension": ".py",
   "mimetype": "text/x-python",
   "name": "python",
   "nbconvert_exporter": "python",
   "pygments_lexer": "ipython2",
   "version": "2.7.6"
  }
 },
 "nbformat": 4,
 "nbformat_minor": 1
}
